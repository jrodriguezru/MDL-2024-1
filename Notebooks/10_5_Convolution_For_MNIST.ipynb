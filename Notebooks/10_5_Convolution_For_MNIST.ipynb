{
  "nbformat": 4,
  "nbformat_minor": 0,
  "metadata": {
    "colab": {
      "provenance": []
    },
    "kernelspec": {
      "name": "python3",
      "display_name": "Python 3"
    },
    "language_info": {
      "name": "python"
    }
  },
  "cells": [
    {
      "cell_type": "markdown",
      "metadata": {
        "id": "view-in-github"
      },
      "source": [
        "<a href=\"https://colab.research.google.com/github/udlbook/udlbook/blob/main/Notebooks/Chap10/10_5_Convolution_For_MNIST.ipynb\" target=\"_parent\"><img src=\"https://colab.research.google.com/assets/colab-badge.svg\" alt=\"Open In Colab\"/></a>"
      ]
    },
    {
      "cell_type": "markdown",
      "source": [
        "# **Notebook 10.5: Convolution for MNIST**\n",
        "\n",
        "This notebook builds a proper network for 2D convolution.  It works with the MNIST dataset (figure 15.15a), which was the original classic dataset for classifying images.  The network will take a 28x28 grayscale image and classify it into one of 10 classes representing a digit.\n",
        "\n",
        "The code is adapted from https://nextjournal.com/gkoehler/pytorch-mnist\n",
        "\n",
        "Work through the cells below, running each cell in turn. In various places you will see the words \"TO DO\". Follow the instructions at these places and make predictions about what is going to happen or write code to complete the functions.\n",
        "\n",
        "Contact me at udlbookmail@gmail.com if you find any mistakes or have any suggestions.\n"
      ],
      "metadata": {
        "id": "t9vk9Elugvmi"
      }
    },
    {
      "cell_type": "code",
      "source": [
        "import torch\n",
        "import torchvision\n",
        "import torch.nn as nn\n",
        "import torch.nn.functional as F\n",
        "import torch.optim as optim\n",
        "import matplotlib.pyplot as plt\n",
        "import random"
      ],
      "metadata": {
        "id": "YrXWAH7sUWvU"
      },
      "execution_count": 1,
      "outputs": []
    },
    {
      "cell_type": "code",
      "source": [
        "# Run this once to load the train and test data straight into a dataloader class\n",
        "# that will provide the batches\n",
        "batch_size_train = 64\n",
        "batch_size_test = 1000\n",
        "train_loader = torch.utils.data.DataLoader(\n",
        "  torchvision.datasets.MNIST('/files/', train=True, download=True,\n",
        "                             transform=torchvision.transforms.Compose([\n",
        "                               torchvision.transforms.ToTensor(),\n",
        "                               torchvision.transforms.Normalize(\n",
        "                                 (0.1307,), (0.3081,))\n",
        "                             ])),\n",
        "  batch_size=batch_size_train, shuffle=True)\n",
        "\n",
        "test_loader = torch.utils.data.DataLoader(\n",
        "  torchvision.datasets.MNIST('/files/', train=False, download=True,\n",
        "                             transform=torchvision.transforms.Compose([\n",
        "                               torchvision.transforms.ToTensor(),\n",
        "                               torchvision.transforms.Normalize(\n",
        "                                 (0.1307,), (0.3081,))\n",
        "                             ])),\n",
        "  batch_size=batch_size_test, shuffle=True)"
      ],
      "metadata": {
        "id": "wScBGXXFVadm",
        "colab": {
          "base_uri": "https://localhost:8080/"
        },
        "outputId": "f3ac63f2-3989-4485-bfbc-5ce6ba8416e5"
      },
      "execution_count": 2,
      "outputs": [
        {
          "output_type": "stream",
          "name": "stdout",
          "text": [
            "Downloading http://yann.lecun.com/exdb/mnist/train-images-idx3-ubyte.gz\n",
            "Failed to download (trying next):\n",
            "HTTP Error 403: Forbidden\n",
            "\n",
            "Downloading https://ossci-datasets.s3.amazonaws.com/mnist/train-images-idx3-ubyte.gz\n",
            "Downloading https://ossci-datasets.s3.amazonaws.com/mnist/train-images-idx3-ubyte.gz to /files/MNIST/raw/train-images-idx3-ubyte.gz\n"
          ]
        },
        {
          "output_type": "stream",
          "name": "stderr",
          "text": [
            "100%|██████████| 9912422/9912422 [00:00<00:00, 15456849.91it/s]\n"
          ]
        },
        {
          "output_type": "stream",
          "name": "stdout",
          "text": [
            "Extracting /files/MNIST/raw/train-images-idx3-ubyte.gz to /files/MNIST/raw\n",
            "\n",
            "Downloading http://yann.lecun.com/exdb/mnist/train-labels-idx1-ubyte.gz\n",
            "Failed to download (trying next):\n",
            "HTTP Error 403: Forbidden\n",
            "\n",
            "Downloading https://ossci-datasets.s3.amazonaws.com/mnist/train-labels-idx1-ubyte.gz\n",
            "Downloading https://ossci-datasets.s3.amazonaws.com/mnist/train-labels-idx1-ubyte.gz to /files/MNIST/raw/train-labels-idx1-ubyte.gz\n"
          ]
        },
        {
          "output_type": "stream",
          "name": "stderr",
          "text": [
            "100%|██████████| 28881/28881 [00:00<00:00, 478031.98it/s]\n"
          ]
        },
        {
          "output_type": "stream",
          "name": "stdout",
          "text": [
            "Extracting /files/MNIST/raw/train-labels-idx1-ubyte.gz to /files/MNIST/raw\n",
            "\n",
            "Downloading http://yann.lecun.com/exdb/mnist/t10k-images-idx3-ubyte.gz\n",
            "Failed to download (trying next):\n",
            "HTTP Error 403: Forbidden\n",
            "\n",
            "Downloading https://ossci-datasets.s3.amazonaws.com/mnist/t10k-images-idx3-ubyte.gz\n",
            "Downloading https://ossci-datasets.s3.amazonaws.com/mnist/t10k-images-idx3-ubyte.gz to /files/MNIST/raw/t10k-images-idx3-ubyte.gz\n"
          ]
        },
        {
          "output_type": "stream",
          "name": "stderr",
          "text": [
            "100%|██████████| 1648877/1648877 [00:00<00:00, 4534100.96it/s]\n"
          ]
        },
        {
          "output_type": "stream",
          "name": "stdout",
          "text": [
            "Extracting /files/MNIST/raw/t10k-images-idx3-ubyte.gz to /files/MNIST/raw\n",
            "\n",
            "Downloading http://yann.lecun.com/exdb/mnist/t10k-labels-idx1-ubyte.gz\n",
            "Failed to download (trying next):\n",
            "HTTP Error 403: Forbidden\n",
            "\n",
            "Downloading https://ossci-datasets.s3.amazonaws.com/mnist/t10k-labels-idx1-ubyte.gz\n",
            "Downloading https://ossci-datasets.s3.amazonaws.com/mnist/t10k-labels-idx1-ubyte.gz to /files/MNIST/raw/t10k-labels-idx1-ubyte.gz\n"
          ]
        },
        {
          "output_type": "stream",
          "name": "stderr",
          "text": [
            "100%|██████████| 4542/4542 [00:00<00:00, 7369643.62it/s]\n"
          ]
        },
        {
          "output_type": "stream",
          "name": "stdout",
          "text": [
            "Extracting /files/MNIST/raw/t10k-labels-idx1-ubyte.gz to /files/MNIST/raw\n",
            "\n"
          ]
        }
      ]
    },
    {
      "cell_type": "code",
      "source": [
        "# Let's draw some of the training data\n",
        "examples = enumerate(test_loader)\n",
        "batch_idx, (example_data, example_targets) = next(examples)\n",
        "\n",
        "fig = plt.figure()\n",
        "for i in range(6):\n",
        "  plt.subplot(2,3,i+1)\n",
        "  plt.tight_layout()\n",
        "  plt.imshow(example_data[i][0], cmap='gray', interpolation='none')\n",
        "  plt.title(\"Ground Truth: {}\".format(example_targets[i]))\n",
        "  plt.xticks([])\n",
        "  plt.yticks([])\n",
        "plt.show()"
      ],
      "metadata": {
        "id": "8bKADvLHbiV5",
        "colab": {
          "base_uri": "https://localhost:8080/",
          "height": 438
        },
        "outputId": "5b780d84-9f74-4871-9611-7f59a79a9986"
      },
      "execution_count": 3,
      "outputs": [
        {
          "output_type": "display_data",
          "data": {
            "text/plain": [
              "<Figure size 640x480 with 6 Axes>"
            ],
            "image/png": "[encoded data removed]"
          },
          "metadata": {}
        }
      ]
    },
    {
      "cell_type": "markdown",
      "source": [
        "Define the network.  This is a more typical way to define a network than the sequential structure.  We define a class for the network, and define the parameters in the constructor.  Then we use a function called forward to actually run the network.  It's easy to see how you might use residual connections in this format."
      ],
      "metadata": {
        "id": "_sFvRDGrl4qe"
      }
    },
    {
      "cell_type": "code",
      "source": [
        "from os import X_OK\n",
        "# TODO Change this class to implement\n",
        "# 1. A valid convolution with kernel size 5, 1 input channel and 10 output channels\n",
        "# 2. A max pooling operation over a 2x2 area\n",
        "# 3. A Relu\n",
        "# 4. A valid convolution with kernel size 5, 10 input channels and 20 output channels\n",
        "# 5. A 2D Dropout layer\n",
        "# 6. A max pooling operation over a 2x2 area\n",
        "# 7. A relu\n",
        "# 8. A flattening operation\n",
        "# 9. A fully connected layer mapping from (whatever dimensions we are at-- find out using .shape) to 50\n",
        "# 10. A ReLU\n",
        "# 11. A fully connected layer mapping from 50 to 10 dimensions\n",
        "# 12. A softmax function.\n",
        "\n",
        "# Replace this class which implements a minimal network (which still does okay)\n",
        "class Net(nn.Module):\n",
        "    def __init__(self):\n",
        "        super(Net, self).__init__()\n",
        "        # Valid convolution, 1 channel in, 10 channels out, stride 1, kernel size = 5\n",
        "        self.conv1 = nn.Conv2d(1, 10, kernel_size=5)\n",
        "        # Valid convolution, 10 channel in, 20 channels out, stride 1, kernel size = 5\n",
        "        self.conv2 = nn.Conv2d(10, 20, kernel_size=5)\n",
        "        # Dropout for convolutions\n",
        "        self.drop = nn.Dropout2d()\n",
        "        # Fully connected layer1\n",
        "        self.fc1 = nn.Linear(320, 50)\n",
        "        # Fully connected layer2\n",
        "        self.fc2 = nn.Linear(50, 10)\n",
        "        # Max-pooling 2D, over 2x2 area\n",
        "        self.mpool = nn.MaxPool2d(2)\n",
        "        # ReLU\n",
        "        self.ReLU = nn.ReLU()\n",
        "        # Flatten\n",
        "        self.flatten = nn.Flatten()\n",
        "\n",
        "    def forward(self, x):\n",
        "        x = self.conv1(x)\n",
        "        x = self.mpool(x)\n",
        "        x = self.ReLU(x)\n",
        "        x = self.conv2(x)\n",
        "        x = self.drop(x)\n",
        "        x = self.mpool(x)\n",
        "        x = self.ReLU(x)\n",
        "        x = self.flatten(x)\n",
        "        x = self.fc1(x)\n",
        "        x = self.ReLU(x)\n",
        "        x = self.fc2(x)\n",
        "        x = F.softmax(x)\n",
        "        return x\n",
        "\n",
        "\n",
        "\n",
        "\n"
      ],
      "metadata": {
        "id": "EQkvw2KOPVl7"
      },
      "execution_count": 17,
      "outputs": []
    },
    {
      "cell_type": "code",
      "source": [
        "# He initialization of weights\n",
        "def weights_init(layer_in):\n",
        "  if isinstance(layer_in, nn.Linear):\n",
        "    nn.init.kaiming_uniform_(layer_in.weight)\n",
        "    layer_in.bias.data.fill_(0.0)"
      ],
      "metadata": {
        "id": "qWZtkCZcU_dg"
      },
      "execution_count": 5,
      "outputs": []
    },
    {
      "cell_type": "code",
      "source": [
        "# Create network\n",
        "model = Net()\n",
        "# Initialize model weights\n",
        "model.apply(weights_init)\n",
        "# Define optimizer\n",
        "optimizer = optim.SGD(model.parameters(), lr=0.01, momentum=0.5)"
      ],
      "metadata": {
        "id": "FslroPJJffrh"
      },
      "execution_count": 18,
      "outputs": []
    },
    {
      "cell_type": "code",
      "source": [
        "# Main training routine\n",
        "def train(epoch):\n",
        "  model.train()\n",
        "  # Get each\n",
        "  for batch_idx, (data, target) in enumerate(train_loader):\n",
        "    optimizer.zero_grad()\n",
        "    output = model(data)\n",
        "    loss = F.nll_loss(output, target)\n",
        "    loss.backward()\n",
        "    optimizer.step()\n",
        "    # Store results\n",
        "    if batch_idx % 10 == 0:\n",
        "      print('Train Epoch: {} [{}/{}]\\tLoss: {:.6f}'.format(\n",
        "        epoch, batch_idx * len(data), len(train_loader.dataset), loss.item()))"
      ],
      "metadata": {
        "id": "xKQd9PzkQ766"
      },
      "execution_count": 7,
      "outputs": []
    },
    {
      "cell_type": "code",
      "source": [
        "# Run on test data\n",
        "def test():\n",
        "  model.eval()\n",
        "  test_loss = 0\n",
        "  correct = 0\n",
        "  with torch.no_grad():\n",
        "    for data, target in test_loader:\n",
        "      output = model(data)\n",
        "      test_loss += F.nll_loss(output, target, size_average=False).item()\n",
        "      pred = output.data.max(1, keepdim=True)[1]\n",
        "      correct += pred.eq(target.data.view_as(pred)).sum()\n",
        "  test_loss /= len(test_loader.dataset)\n",
        "  print('\\nTest set: Avg. loss: {:.4f}, Accuracy: {}/{} ({:.0f}%)\\n'.format(\n",
        "    test_loss, correct, len(test_loader.dataset),\n",
        "    100. * correct / len(test_loader.dataset)))"
      ],
      "metadata": {
        "id": "Byn-f7qWRLxX"
      },
      "execution_count": 8,
      "outputs": []
    },
    {
      "cell_type": "code",
      "source": [
        "# Get initial performance\n",
        "test()\n",
        "# Train for three epochs\n",
        "n_epochs = 3\n",
        "for epoch in range(1, n_epochs + 1):\n",
        "  train(epoch)\n",
        "  test()"
      ],
      "metadata": {
        "id": "YgLaex1pfhqz",
        "colab": {
          "base_uri": "https://localhost:8080/"
        },
        "outputId": "84407f7f-4cb4-4fe7-e245-978565b37b00"
      },
      "execution_count": 19,
      "outputs": [
        {
          "output_type": "stream",
          "name": "stderr",
          "text": [
            "<ipython-input-17-5c5fcf349258>:49: UserWarning: Implicit dimension choice for softmax has been deprecated. Change the call to include dim=X as an argument.\n",
            "  x = F.softmax(x)\n",
            "/usr/local/lib/python3.10/dist-packages/torch/nn/_reduction.py:42: UserWarning: size_average and reduce args will be deprecated, please use reduction='sum' instead.\n",
            "  warnings.warn(warning.format(ret))\n"
          ]
        },
        {
          "output_type": "stream",
          "name": "stdout",
          "text": [
            "\n",
            "Test set: Avg. loss: -0.0988, Accuracy: 874/10000 (9%)\n",
            "\n",
            "Train Epoch: 1 [0/60000]\tLoss: -0.083335\n",
            "Train Epoch: 1 [640/60000]\tLoss: -0.109667\n",
            "Train Epoch: 1 [1280/60000]\tLoss: -0.122489\n",
            "Train Epoch: 1 [1920/60000]\tLoss: -0.125667\n",
            "Train Epoch: 1 [2560/60000]\tLoss: -0.091676\n",
            "Train Epoch: 1 [3200/60000]\tLoss: -0.161335\n",
            "Train Epoch: 1 [3840/60000]\tLoss: -0.112913\n",
            "Train Epoch: 1 [4480/60000]\tLoss: -0.153990\n",
            "Train Epoch: 1 [5120/60000]\tLoss: -0.098488\n",
            "Train Epoch: 1 [5760/60000]\tLoss: -0.174966\n",
            "Train Epoch: 1 [6400/60000]\tLoss: -0.175568\n",
            "Train Epoch: 1 [7040/60000]\tLoss: -0.178916\n",
            "Train Epoch: 1 [7680/60000]\tLoss: -0.184913\n",
            "Train Epoch: 1 [8320/60000]\tLoss: -0.247697\n",
            "Train Epoch: 1 [8960/60000]\tLoss: -0.225878\n",
            "Train Epoch: 1 [9600/60000]\tLoss: -0.270888\n",
            "Train Epoch: 1 [10240/60000]\tLoss: -0.296871\n",
            "Train Epoch: 1 [10880/60000]\tLoss: -0.301568\n",
            "Train Epoch: 1 [11520/60000]\tLoss: -0.276294\n",
            "Train Epoch: 1 [12160/60000]\tLoss: -0.360766\n",
            "Train Epoch: 1 [12800/60000]\tLoss: -0.377421\n",
            "Train Epoch: 1 [13440/60000]\tLoss: -0.313729\n",
            "Train Epoch: 1 [14080/60000]\tLoss: -0.364431\n",
            "Train Epoch: 1 [14720/60000]\tLoss: -0.337845\n",
            "Train Epoch: 1 [15360/60000]\tLoss: -0.407697\n",
            "Train Epoch: 1 [16000/60000]\tLoss: -0.363684\n",
            "Train Epoch: 1 [16640/60000]\tLoss: -0.375007\n",
            "Train Epoch: 1 [17280/60000]\tLoss: -0.462657\n",
            "Train Epoch: 1 [17920/60000]\tLoss: -0.532406\n",
            "Train Epoch: 1 [18560/60000]\tLoss: -0.354760\n",
            "Train Epoch: 1 [19200/60000]\tLoss: -0.448246\n",
            "Train Epoch: 1 [19840/60000]\tLoss: -0.550943\n",
            "Train Epoch: 1 [20480/60000]\tLoss: -0.448595\n",
            "Train Epoch: 1 [21120/60000]\tLoss: -0.367911\n",
            "Train Epoch: 1 [21760/60000]\tLoss: -0.495285\n",
            "Train Epoch: 1 [22400/60000]\tLoss: -0.500493\n",
            "Train Epoch: 1 [23040/60000]\tLoss: -0.532743\n",
            "Train Epoch: 1 [23680/60000]\tLoss: -0.463075\n",
            "Train Epoch: 1 [24320/60000]\tLoss: -0.510051\n",
            "Train Epoch: 1 [24960/60000]\tLoss: -0.479346\n",
            "Train Epoch: 1 [25600/60000]\tLoss: -0.542631\n",
            "Train Epoch: 1 [26240/60000]\tLoss: -0.570552\n",
            "Train Epoch: 1 [26880/60000]\tLoss: -0.485469\n",
            "Train Epoch: 1 [27520/60000]\tLoss: -0.584369\n",
            "Train Epoch: 1 [28160/60000]\tLoss: -0.588152\n",
            "Train Epoch: 1 [28800/60000]\tLoss: -0.658978\n",
            "Train Epoch: 1 [29440/60000]\tLoss: -0.484687\n",
            "Train Epoch: 1 [30080/60000]\tLoss: -0.614088\n",
            "Train Epoch: 1 [30720/60000]\tLoss: -0.595121\n",
            "Train Epoch: 1 [31360/60000]\tLoss: -0.647143\n",
            "Train Epoch: 1 [32000/60000]\tLoss: -0.524044\n",
            "Train Epoch: 1 [32640/60000]\tLoss: -0.536361\n",
            "Train Epoch: 1 [33280/60000]\tLoss: -0.637027\n",
            "Train Epoch: 1 [33920/60000]\tLoss: -0.717757\n",
            "Train Epoch: 1 [34560/60000]\tLoss: -0.675083\n",
            "Train Epoch: 1 [35200/60000]\tLoss: -0.579985\n",
            "Train Epoch: 1 [35840/60000]\tLoss: -0.676020\n",
            "Train Epoch: 1 [36480/60000]\tLoss: -0.681286\n",
            "Train Epoch: 1 [37120/60000]\tLoss: -0.654649\n",
            "Train Epoch: 1 [37760/60000]\tLoss: -0.634804\n",
            "Train Epoch: 1 [38400/60000]\tLoss: -0.671217\n",
            "Train Epoch: 1 [39040/60000]\tLoss: -0.725863\n",
            "Train Epoch: 1 [39680/60000]\tLoss: -0.719325\n",
            "Train Epoch: 1 [40320/60000]\tLoss: -0.713140\n",
            "Train Epoch: 1 [40960/60000]\tLoss: -0.749911\n",
            "Train Epoch: 1 [41600/60000]\tLoss: -0.607971\n",
            "Train Epoch: 1 [42240/60000]\tLoss: -0.639387\n",
            "Train Epoch: 1 [42880/60000]\tLoss: -0.721040\n",
            "Train Epoch: 1 [43520/60000]\tLoss: -0.794171\n",
            "Train Epoch: 1 [44160/60000]\tLoss: -0.773521\n",
            "Train Epoch: 1 [44800/60000]\tLoss: -0.744351\n",
            "Train Epoch: 1 [45440/60000]\tLoss: -0.757643\n",
            "Train Epoch: 1 [46080/60000]\tLoss: -0.686575\n",
            "Train Epoch: 1 [46720/60000]\tLoss: -0.800368\n",
            "Train Epoch: 1 [47360/60000]\tLoss: -0.742071\n",
            "Train Epoch: 1 [48000/60000]\tLoss: -0.684864\n",
            "Train Epoch: 1 [48640/60000]\tLoss: -0.717674\n",
            "Train Epoch: 1 [49280/60000]\tLoss: -0.792909\n",
            "Train Epoch: 1 [49920/60000]\tLoss: -0.739680\n",
            "Train Epoch: 1 [50560/60000]\tLoss: -0.722846\n",
            "Train Epoch: 1 [51200/60000]\tLoss: -0.773233\n",
            "Train Epoch: 1 [51840/60000]\tLoss: -0.704282\n",
            "Train Epoch: 1 [52480/60000]\tLoss: -0.760174\n",
            "Train Epoch: 1 [53120/60000]\tLoss: -0.807016\n",
            "Train Epoch: 1 [53760/60000]\tLoss: -0.748246\n",
            "Train Epoch: 1 [54400/60000]\tLoss: -0.811104\n",
            "Train Epoch: 1 [55040/60000]\tLoss: -0.644392\n",
            "Train Epoch: 1 [55680/60000]\tLoss: -0.741882\n",
            "Train Epoch: 1 [56320/60000]\tLoss: -0.727072\n",
            "Train Epoch: 1 [56960/60000]\tLoss: -0.813967\n",
            "Train Epoch: 1 [57600/60000]\tLoss: -0.786108\n",
            "Train Epoch: 1 [58240/60000]\tLoss: -0.709976\n",
            "Train Epoch: 1 [58880/60000]\tLoss: -0.707279\n",
            "Train Epoch: 1 [59520/60000]\tLoss: -0.750385\n",
            "\n",
            "Test set: Avg. loss: -0.8169, Accuracy: 8279/10000 (83%)\n",
            "\n",
            "Train Epoch: 2 [0/60000]\tLoss: -0.756797\n",
            "Train Epoch: 2 [640/60000]\tLoss: -0.612574\n",
            "Train Epoch: 2 [1280/60000]\tLoss: -0.781870\n",
            "Train Epoch: 2 [1920/60000]\tLoss: -0.757135\n",
            "Train Epoch: 2 [2560/60000]\tLoss: -0.728007\n",
            "Train Epoch: 2 [3200/60000]\tLoss: -0.739504\n",
            "Train Epoch: 2 [3840/60000]\tLoss: -0.785958\n",
            "Train Epoch: 2 [4480/60000]\tLoss: -0.757990\n",
            "Train Epoch: 2 [5120/60000]\tLoss: -0.789251\n",
            "Train Epoch: 2 [5760/60000]\tLoss: -0.786708\n",
            "Train Epoch: 2 [6400/60000]\tLoss: -0.752690\n",
            "Train Epoch: 2 [7040/60000]\tLoss: -0.841201\n",
            "Train Epoch: 2 [7680/60000]\tLoss: -0.850067\n",
            "Train Epoch: 2 [8320/60000]\tLoss: -0.843901\n",
            "Train Epoch: 2 [8960/60000]\tLoss: -0.835468\n",
            "Train Epoch: 2 [9600/60000]\tLoss: -0.851387\n",
            "Train Epoch: 2 [10240/60000]\tLoss: -0.814293\n",
            "Train Epoch: 2 [10880/60000]\tLoss: -0.762023\n",
            "Train Epoch: 2 [11520/60000]\tLoss: -0.796661\n",
            "Train Epoch: 2 [12160/60000]\tLoss: -0.788896\n",
            "Train Epoch: 2 [12800/60000]\tLoss: -0.804585\n",
            "Train Epoch: 2 [13440/60000]\tLoss: -0.796278\n",
            "Train Epoch: 2 [14080/60000]\tLoss: -0.842012\n",
            "Train Epoch: 2 [14720/60000]\tLoss: -0.761917\n",
            "Train Epoch: 2 [15360/60000]\tLoss: -0.820953\n",
            "Train Epoch: 2 [16000/60000]\tLoss: -0.792430\n",
            "Train Epoch: 2 [16640/60000]\tLoss: -0.788644\n",
            "Train Epoch: 2 [17280/60000]\tLoss: -0.820825\n",
            "Train Epoch: 2 [17920/60000]\tLoss: -0.784954\n",
            "Train Epoch: 2 [18560/60000]\tLoss: -0.718395\n",
            "Train Epoch: 2 [19200/60000]\tLoss: -0.830510\n",
            "Train Epoch: 2 [19840/60000]\tLoss: -0.787186\n",
            "Train Epoch: 2 [20480/60000]\tLoss: -0.790325\n",
            "Train Epoch: 2 [21120/60000]\tLoss: -0.798313\n",
            "Train Epoch: 2 [21760/60000]\tLoss: -0.750448\n",
            "Train Epoch: 2 [22400/60000]\tLoss: -0.810334\n",
            "Train Epoch: 2 [23040/60000]\tLoss: -0.765111\n",
            "Train Epoch: 2 [23680/60000]\tLoss: -0.771898\n",
            "Train Epoch: 2 [24320/60000]\tLoss: -0.834123\n",
            "Train Epoch: 2 [24960/60000]\tLoss: -0.662054\n",
            "Train Epoch: 2 [25600/60000]\tLoss: -0.755130\n",
            "Train Epoch: 2 [26240/60000]\tLoss: -0.772048\n",
            "Train Epoch: 2 [26880/60000]\tLoss: -0.735148\n",
            "Train Epoch: 2 [27520/60000]\tLoss: -0.786409\n",
            "Train Epoch: 2 [28160/60000]\tLoss: -0.690162\n",
            "Train Epoch: 2 [28800/60000]\tLoss: -0.845873\n",
            "Train Epoch: 2 [29440/60000]\tLoss: -0.855629\n",
            "Train Epoch: 2 [30080/60000]\tLoss: -0.806957\n",
            "Train Epoch: 2 [30720/60000]\tLoss: -0.842664\n",
            "Train Epoch: 2 [31360/60000]\tLoss: -0.791091\n",
            "Train Epoch: 2 [32000/60000]\tLoss: -0.730151\n",
            "Train Epoch: 2 [32640/60000]\tLoss: -0.794403\n",
            "Train Epoch: 2 [33280/60000]\tLoss: -0.761340\n",
            "Train Epoch: 2 [33920/60000]\tLoss: -0.783506\n",
            "Train Epoch: 2 [34560/60000]\tLoss: -0.729688\n",
            "Train Epoch: 2 [35200/60000]\tLoss: -0.739989\n",
            "Train Epoch: 2 [35840/60000]\tLoss: -0.750580\n",
            "Train Epoch: 2 [36480/60000]\tLoss: -0.836409\n",
            "Train Epoch: 2 [37120/60000]\tLoss: -0.850743\n",
            "Train Epoch: 2 [37760/60000]\tLoss: -0.843812\n",
            "Train Epoch: 2 [38400/60000]\tLoss: -0.877125\n",
            "Train Epoch: 2 [39040/60000]\tLoss: -0.838743\n",
            "Train Epoch: 2 [39680/60000]\tLoss: -0.765552\n",
            "Train Epoch: 2 [40320/60000]\tLoss: -0.819072\n",
            "Train Epoch: 2 [40960/60000]\tLoss: -0.851654\n",
            "Train Epoch: 2 [41600/60000]\tLoss: -0.727583\n",
            "Train Epoch: 2 [42240/60000]\tLoss: -0.836806\n",
            "Train Epoch: 2 [42880/60000]\tLoss: -0.765802\n",
            "Train Epoch: 2 [43520/60000]\tLoss: -0.746439\n",
            "Train Epoch: 2 [44160/60000]\tLoss: -0.860222\n",
            "Train Epoch: 2 [44800/60000]\tLoss: -0.763249\n",
            "Train Epoch: 2 [45440/60000]\tLoss: -0.813643\n",
            "Train Epoch: 2 [46080/60000]\tLoss: -0.755522\n",
            "Train Epoch: 2 [46720/60000]\tLoss: -0.805533\n",
            "Train Epoch: 2 [47360/60000]\tLoss: -0.813517\n",
            "Train Epoch: 2 [48000/60000]\tLoss: -0.731628\n",
            "Train Epoch: 2 [48640/60000]\tLoss: -0.859287\n",
            "Train Epoch: 2 [49280/60000]\tLoss: -0.763003\n",
            "Train Epoch: 2 [49920/60000]\tLoss: -0.805715\n",
            "Train Epoch: 2 [50560/60000]\tLoss: -0.914625\n",
            "Train Epoch: 2 [51200/60000]\tLoss: -0.818041\n",
            "Train Epoch: 2 [51840/60000]\tLoss: -0.780565\n",
            "Train Epoch: 2 [52480/60000]\tLoss: -0.809573\n",
            "Train Epoch: 2 [53120/60000]\tLoss: -0.758586\n",
            "Train Epoch: 2 [53760/60000]\tLoss: -0.804391\n",
            "Train Epoch: 2 [54400/60000]\tLoss: -0.763124\n",
            "Train Epoch: 2 [55040/60000]\tLoss: -0.750417\n",
            "Train Epoch: 2 [55680/60000]\tLoss: -0.772450\n",
            "Train Epoch: 2 [56320/60000]\tLoss: -0.764330\n",
            "Train Epoch: 2 [56960/60000]\tLoss: -0.702366\n",
            "Train Epoch: 2 [57600/60000]\tLoss: -0.840729\n",
            "Train Epoch: 2 [58240/60000]\tLoss: -0.900903\n",
            "Train Epoch: 2 [58880/60000]\tLoss: -0.856234\n",
            "Train Epoch: 2 [59520/60000]\tLoss: -0.812312\n",
            "\n",
            "Test set: Avg. loss: -0.8483, Accuracy: 8528/10000 (85%)\n",
            "\n",
            "Train Epoch: 3 [0/60000]\tLoss: -0.808292\n",
            "Train Epoch: 3 [640/60000]\tLoss: -0.830634\n",
            "Train Epoch: 3 [1280/60000]\tLoss: -0.812028\n",
            "Train Epoch: 3 [1920/60000]\tLoss: -0.880892\n",
            "Train Epoch: 3 [2560/60000]\tLoss: -0.837466\n",
            "Train Epoch: 3 [3200/60000]\tLoss: -0.729708\n",
            "Train Epoch: 3 [3840/60000]\tLoss: -0.848443\n",
            "Train Epoch: 3 [4480/60000]\tLoss: -0.823967\n",
            "Train Epoch: 3 [5120/60000]\tLoss: -0.808407\n",
            "Train Epoch: 3 [5760/60000]\tLoss: -0.840265\n",
            "Train Epoch: 3 [6400/60000]\tLoss: -0.776904\n",
            "Train Epoch: 3 [7040/60000]\tLoss: -0.744926\n",
            "Train Epoch: 3 [7680/60000]\tLoss: -0.751049\n",
            "Train Epoch: 3 [8320/60000]\tLoss: -0.736041\n",
            "Train Epoch: 3 [8960/60000]\tLoss: -0.798355\n",
            "Train Epoch: 3 [9600/60000]\tLoss: -0.731528\n",
            "Train Epoch: 3 [10240/60000]\tLoss: -0.815055\n",
            "Train Epoch: 3 [10880/60000]\tLoss: -0.788381\n",
            "Train Epoch: 3 [11520/60000]\tLoss: -0.795534\n",
            "Train Epoch: 3 [12160/60000]\tLoss: -0.802194\n",
            "Train Epoch: 3 [12800/60000]\tLoss: -0.788456\n",
            "Train Epoch: 3 [13440/60000]\tLoss: -0.808639\n",
            "Train Epoch: 3 [14080/60000]\tLoss: -0.733461\n",
            "Train Epoch: 3 [14720/60000]\tLoss: -0.760519\n",
            "Train Epoch: 3 [15360/60000]\tLoss: -0.841226\n",
            "Train Epoch: 3 [16000/60000]\tLoss: -0.780936\n",
            "Train Epoch: 3 [16640/60000]\tLoss: -0.834210\n",
            "Train Epoch: 3 [17280/60000]\tLoss: -0.816656\n",
            "Train Epoch: 3 [17920/60000]\tLoss: -0.840528\n",
            "Train Epoch: 3 [18560/60000]\tLoss: -0.801437\n",
            "Train Epoch: 3 [19200/60000]\tLoss: -0.799471\n",
            "Train Epoch: 3 [19840/60000]\tLoss: -0.742558\n",
            "Train Epoch: 3 [20480/60000]\tLoss: -0.849643\n",
            "Train Epoch: 3 [21120/60000]\tLoss: -0.735326\n",
            "Train Epoch: 3 [21760/60000]\tLoss: -0.809301\n",
            "Train Epoch: 3 [22400/60000]\tLoss: -0.779798\n",
            "Train Epoch: 3 [23040/60000]\tLoss: -0.727980\n",
            "Train Epoch: 3 [23680/60000]\tLoss: -0.706719\n",
            "Train Epoch: 3 [24320/60000]\tLoss: -0.839651\n",
            "Train Epoch: 3 [24960/60000]\tLoss: -0.808220\n",
            "Train Epoch: 3 [25600/60000]\tLoss: -0.777795\n",
            "Train Epoch: 3 [26240/60000]\tLoss: -0.829277\n",
            "Train Epoch: 3 [26880/60000]\tLoss: -0.863284\n",
            "Train Epoch: 3 [27520/60000]\tLoss: -0.781201\n",
            "Train Epoch: 3 [28160/60000]\tLoss: -0.845471\n",
            "Train Epoch: 3 [28800/60000]\tLoss: -0.794678\n",
            "Train Epoch: 3 [29440/60000]\tLoss: -0.783668\n",
            "Train Epoch: 3 [30080/60000]\tLoss: -0.749039\n",
            "Train Epoch: 3 [30720/60000]\tLoss: -0.787974\n",
            "Train Epoch: 3 [31360/60000]\tLoss: -0.871235\n",
            "Train Epoch: 3 [32000/60000]\tLoss: -0.890116\n",
            "Train Epoch: 3 [32640/60000]\tLoss: -0.842653\n",
            "Train Epoch: 3 [33280/60000]\tLoss: -0.744433\n",
            "Train Epoch: 3 [33920/60000]\tLoss: -0.841187\n",
            "Train Epoch: 3 [34560/60000]\tLoss: -0.693503\n",
            "Train Epoch: 3 [35200/60000]\tLoss: -0.840110\n",
            "Train Epoch: 3 [35840/60000]\tLoss: -0.841689\n",
            "Train Epoch: 3 [36480/60000]\tLoss: -0.873584\n",
            "Train Epoch: 3 [37120/60000]\tLoss: -0.852181\n",
            "Train Epoch: 3 [37760/60000]\tLoss: -0.920051\n",
            "Train Epoch: 3 [38400/60000]\tLoss: -0.875349\n",
            "Train Epoch: 3 [39040/60000]\tLoss: -0.855162\n",
            "Train Epoch: 3 [39680/60000]\tLoss: -0.817547\n",
            "Train Epoch: 3 [40320/60000]\tLoss: -0.813664\n",
            "Train Epoch: 3 [40960/60000]\tLoss: -0.862216\n",
            "Train Epoch: 3 [41600/60000]\tLoss: -0.766088\n",
            "Train Epoch: 3 [42240/60000]\tLoss: -0.884944\n",
            "Train Epoch: 3 [42880/60000]\tLoss: -0.810383\n",
            "Train Epoch: 3 [43520/60000]\tLoss: -0.766977\n",
            "Train Epoch: 3 [44160/60000]\tLoss: -0.880738\n",
            "Train Epoch: 3 [44800/60000]\tLoss: -0.806617\n",
            "Train Epoch: 3 [45440/60000]\tLoss: -0.761377\n",
            "Train Epoch: 3 [46080/60000]\tLoss: -0.788302\n",
            "Train Epoch: 3 [46720/60000]\tLoss: -0.846338\n",
            "Train Epoch: 3 [47360/60000]\tLoss: -0.771203\n",
            "Train Epoch: 3 [48000/60000]\tLoss: -0.886140\n",
            "Train Epoch: 3 [48640/60000]\tLoss: -0.861791\n",
            "Train Epoch: 3 [49280/60000]\tLoss: -0.805007\n",
            "Train Epoch: 3 [49920/60000]\tLoss: -0.829696\n",
            "Train Epoch: 3 [50560/60000]\tLoss: -0.819267\n",
            "Train Epoch: 3 [51200/60000]\tLoss: -0.713018\n",
            "Train Epoch: 3 [51840/60000]\tLoss: -0.878232\n",
            "Train Epoch: 3 [52480/60000]\tLoss: -0.841878\n",
            "Train Epoch: 3 [53120/60000]\tLoss: -0.879964\n",
            "Train Epoch: 3 [53760/60000]\tLoss: -0.861613\n",
            "Train Epoch: 3 [54400/60000]\tLoss: -0.753405\n",
            "Train Epoch: 3 [55040/60000]\tLoss: -0.888320\n",
            "Train Epoch: 3 [55680/60000]\tLoss: -0.788746\n",
            "Train Epoch: 3 [56320/60000]\tLoss: -0.800621\n",
            "Train Epoch: 3 [56960/60000]\tLoss: -0.821264\n",
            "Train Epoch: 3 [57600/60000]\tLoss: -0.843790\n",
            "Train Epoch: 3 [58240/60000]\tLoss: -0.854533\n",
            "Train Epoch: 3 [58880/60000]\tLoss: -0.848981\n",
            "Train Epoch: 3 [59520/60000]\tLoss: -0.718444\n",
            "\n",
            "Test set: Avg. loss: -0.8567, Accuracy: 8606/10000 (86%)\n",
            "\n"
          ]
        }
      ]
    },
    {
      "cell_type": "code",
      "source": [
        "# Run network on data we got before and show predictions\n",
        "output = model(example_data)\n",
        "\n",
        "fig = plt.figure()\n",
        "for i in range(10):\n",
        "  plt.subplot(5,5,i+1)\n",
        "  plt.tight_layout()\n",
        "  plt.imshow(example_data[i][0], cmap='gray', interpolation='none')\n",
        "  plt.title(\"Prediction: {}\".format(\n",
        "    output.data.max(1, keepdim=True)[1][i].item()))\n",
        "  plt.xticks([])\n",
        "  plt.yticks([])\n",
        "plt.show()"
      ],
      "metadata": {
        "id": "o7fRUAy9Se1B",
        "colab": {
          "base_uri": "https://localhost:8080/",
          "height": 241
        },
        "outputId": "551718aa-011a-4854-ef60-8f0583e24d55"
      },
      "execution_count": 20,
      "outputs": [
        {
          "output_type": "stream",
          "name": "stderr",
          "text": [
            "<ipython-input-17-5c5fcf349258>:49: UserWarning: Implicit dimension choice for softmax has been deprecated. Change the call to include dim=X as an argument.\n",
            "  x = F.softmax(x)\n"
          ]
        },
        {
          "output_type": "display_data",
          "data": {
            "text/plain": [
              "<Figure size 640x480 with 10 Axes>"
            ],
            "image/png": "[encoded data removed]"
          },
          "metadata": {}
        }
      ]
    }
  ]
}