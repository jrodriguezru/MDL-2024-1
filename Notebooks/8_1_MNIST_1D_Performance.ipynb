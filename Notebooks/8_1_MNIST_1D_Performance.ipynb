{
 "nbformat": 4,
 "nbformat_minor": 0,
 "metadata": {
  "colab": {
   "provenance": [],
   "gpuType": "T4",
   "authorship_tag": "ABX9TyOuKMUcKfOIhIL2qTX9jJCy",
   "include_colab_link": true
  },
  "kernelspec": {
   "name": "python3",
   "language": "python",
   "display_name": "Python 3 (ipykernel)"
  },
  "language_info": {
   "name": "python"
  },
  "accelerator": "GPU"
 },
 "cells": [
  {
   "cell_type": "markdown",
   "metadata": {
    "id": "view-in-github",
    "colab_type": "text"
   },
   "source": [
    "<a href=\"https://colab.research.google.com/github/udlbook/udlbook/blob/main/Notebooks/Chap08/8_1_MNIST_1D_Performance.ipynb\" target=\"_parent\"><img src=\"https://colab.research.google.com/assets/colab-badge.svg\" alt=\"Open In Colab\"/></a>"
   ]
  },
  {
   "cell_type": "markdown",
   "source": [
    "# **Notebook 8.1: MNIST_1D_Performance**\n",
    "\n",
    "This notebook runs a simple neural network on the MNIST1D dataset as in figure 8.2a. It uses code from https://github.com/greydanus/mnist1d to generate the data.\n",
    "\n",
    "Work through the cells below, running each cell in turn. In various places you will see the words \"TO DO\". Follow the instructions at these places and make predictions about what is going to happen or write code to complete the functions.\n",
    "\n",
    "Contact me at udlbookmail@gmail.com if you find any mistakes or have any suggestions."
   ],
   "metadata": {
    "id": "L6chybAVFJW2"
   }
  },
  {
   "cell_type": "code",
   "source": [
    "# Run this if you're in a Colab to make a local copy of the MNIST 1D repository\n",
    "!git clone https://github.com/greydanus/mnist1d"
   ],
   "metadata": {
    "id": "ifVjS4cTOqKz",
    "ExecuteTime": {
     "end_time": "2024-04-24T13:01:13.852164Z",
     "start_time": "2024-04-24T13:01:10.605298Z"
    }
   },
   "execution_count": 1,
   "outputs": [
    {
     "name": "stdout",
     "output_type": "stream",
     "text": [
      "Cloning into 'mnist1d'...\r\n",
      "remote: Enumerating objects: 204, done.\u001B[K\r\n",
      "remote: Counting objects: 100% (76/76), done.\u001B[K\r\n",
      "remote: Compressing objects: 100% (35/35), done.\u001B[K\r\n",
      "remote: Total 204 (delta 47), reused 60 (delta 41), pack-reused 128\u001B[K\r\n",
      "Receiving objects: 100% (204/204), 8.42 MiB | 5.48 MiB/s, done.\r\n",
      "Resolving deltas: 100% (73/73), done.\r\n"
     ]
    }
   ]
  },
  {
   "cell_type": "code",
   "outputs": [
    {
     "name": "stdout",
     "output_type": "stream",
     "text": [
      "Collecting torch\r\n",
      "  Downloading torch-2.2.2-cp39-none-macosx_10_9_x86_64.whl.metadata (25 kB)\r\n",
      "Collecting filelock (from torch)\r\n",
      "  Downloading filelock-3.13.4-py3-none-any.whl.metadata (2.8 kB)\r\n",
      "Requirement already satisfied: typing-extensions>=4.8.0 in /Users/juanarodriguez/Library/Mobile Documents/com~apple~CloudDocs/Documentos JA/UNAL/Materias/2024-1/MML/Notebooks/MDL-2024-1/lib/python3.9/site-packages (from torch) (4.9.0)\r\n",
      "Collecting sympy (from torch)\r\n",
      "  Downloading sympy-1.12-py3-none-any.whl.metadata (12 kB)\r\n",
      "Collecting networkx (from torch)\r\n",
      "  Downloading networkx-3.2.1-py3-none-any.whl.metadata (5.2 kB)\r\n",
      "Requirement already satisfied: jinja2 in /Users/juanarodriguez/Library/Mobile Documents/com~apple~CloudDocs/Documentos JA/UNAL/Materias/2024-1/MML/Notebooks/MDL-2024-1/lib/python3.9/site-packages (from torch) (3.1.3)\r\n",
      "Collecting fsspec (from torch)\r\n",
      "  Downloading fsspec-2024.3.1-py3-none-any.whl.metadata (6.8 kB)\r\n",
      "Requirement already satisfied: MarkupSafe>=2.0 in /Users/juanarodriguez/Library/Mobile Documents/com~apple~CloudDocs/Documentos JA/UNAL/Materias/2024-1/MML/Notebooks/MDL-2024-1/lib/python3.9/site-packages (from jinja2->torch) (2.1.5)\r\n",
      "Collecting mpmath>=0.19 (from sympy->torch)\r\n",
      "  Downloading mpmath-1.3.0-py3-none-any.whl.metadata (8.6 kB)\r\n",
      "Downloading torch-2.2.2-cp39-none-macosx_10_9_x86_64.whl (150.8 MB)\r\n",
      "\u001B[2K   \u001B[90m━━━━━━━━━━━━━━━━━━━━━━━━━━━━━━━━━━━━━━━━\u001B[0m \u001B[32m150.8/150.8 MB\u001B[0m \u001B[31m7.8 MB/s\u001B[0m eta \u001B[36m0:00:00\u001B[0m:00:01\u001B[0m00:01\u001B[0m\r\n",
      "\u001B[?25hDownloading filelock-3.13.4-py3-none-any.whl (11 kB)\r\n",
      "Downloading fsspec-2024.3.1-py3-none-any.whl (171 kB)\r\n",
      "\u001B[2K   \u001B[90m━━━━━━━━━━━━━━━━━━━━━━━━━━━━━━━━━━━━━━━━\u001B[0m \u001B[32m172.0/172.0 kB\u001B[0m \u001B[31m4.8 MB/s\u001B[0m eta \u001B[36m0:00:00\u001B[0m\r\n",
      "\u001B[?25hDownloading networkx-3.2.1-py3-none-any.whl (1.6 MB)\r\n",
      "\u001B[2K   \u001B[90m━━━━━━━━━━━━━━━━━━━━━━━━━━━━━━━━━━━━━━━━\u001B[0m \u001B[32m1.6/1.6 MB\u001B[0m \u001B[31m13.6 MB/s\u001B[0m eta \u001B[36m0:00:00\u001B[0m00:01\u001B[0m00:01\u001B[0m\r\n",
      "\u001B[?25hDownloading sympy-1.12-py3-none-any.whl (5.7 MB)\r\n",
      "\u001B[2K   \u001B[90m━━━━━━━━━━━━━━━━━━━━━━━━━━━━━━━━━━━━━━━━\u001B[0m \u001B[32m5.7/5.7 MB\u001B[0m \u001B[31m13.3 MB/s\u001B[0m eta \u001B[36m0:00:00\u001B[0m00:01\u001B[0m00:01\u001B[0m\r\n",
      "\u001B[?25hDownloading mpmath-1.3.0-py3-none-any.whl (536 kB)\r\n",
      "\u001B[2K   \u001B[90m━━━━━━━━━━━━━━━━━━━━━━━━━━━━━━━━━━━━━━━━\u001B[0m \u001B[32m536.2/536.2 kB\u001B[0m \u001B[31m11.0 MB/s\u001B[0m eta \u001B[36m0:00:00\u001B[0m00:01\u001B[0m\r\n",
      "\u001B[?25hInstalling collected packages: mpmath, sympy, networkx, fsspec, filelock, torch\r\n",
      "Successfully installed filelock-3.13.4 fsspec-2024.3.1 mpmath-1.3.0 networkx-3.2.1 sympy-1.12 torch-2.2.2\r\n"
     ]
    }
   ],
   "source": [
    "!pip install torch"
   ],
   "metadata": {
    "collapsed": false,
    "ExecuteTime": {
     "end_time": "2024-04-24T13:07:11.916735Z",
     "start_time": "2024-04-24T13:01:21.978745Z"
    }
   },
   "execution_count": 2
  },
  {
   "cell_type": "code",
   "outputs": [
    {
     "name": "stdout",
     "output_type": "stream",
     "text": [
      "Collecting spicy\r\n",
      "  Downloading spicy-0.16.0-py2.py3-none-any.whl.metadata (310 bytes)\r\n",
      "Collecting scipy (from spicy)\r\n",
      "  Downloading scipy-1.13.0-cp39-cp39-macosx_10_9_x86_64.whl.metadata (60 kB)\r\n",
      "\u001B[2K     \u001B[90m━━━━━━━━━━━━━━━━━━━━━━━━━━━━━━━━━━━━━━━\u001B[0m \u001B[32m60.6/60.6 kB\u001B[0m \u001B[31m350.3 kB/s\u001B[0m eta \u001B[36m0:00:00\u001B[0ma \u001B[36m0:00:01\u001B[0m\r\n",
      "\u001B[?25hRequirement already satisfied: numpy<2.3,>=1.22.4 in /Users/juanarodriguez/Library/Mobile Documents/com~apple~CloudDocs/Documentos JA/UNAL/Materias/2024-1/MML/Notebooks/MDL-2024-1/lib/python3.9/site-packages (from scipy->spicy) (1.26.4)\r\n",
      "Downloading spicy-0.16.0-py2.py3-none-any.whl (1.7 kB)\r\n",
      "Downloading scipy-1.13.0-cp39-cp39-macosx_10_9_x86_64.whl (39.3 MB)\r\n",
      "\u001B[2K   \u001B[90m━━━━━━━━━━━━━━━━━━━━━━━━━━━━━━━━━━━━━━━━\u001B[0m \u001B[32m39.3/39.3 MB\u001B[0m \u001B[31m12.6 MB/s\u001B[0m eta \u001B[36m0:00:00\u001B[0m00:01\u001B[0m00:01\u001B[0m\r\n",
      "\u001B[?25hInstalling collected packages: scipy, spicy\r\n",
      "Successfully installed scipy-1.13.0 spicy-0.16.0\r\n"
     ]
    }
   ],
   "source": [
    "!pip install spicy"
   ],
   "metadata": {
    "collapsed": false,
    "ExecuteTime": {
     "end_time": "2024-04-24T13:11:41.758343Z",
     "start_time": "2024-04-24T13:11:19.737865Z"
    }
   },
   "execution_count": 4
  },
  {
   "cell_type": "code",
   "source": [
    "import torch, torch.nn as nn\n",
    "from torch.utils.data import TensorDataset, DataLoader\n",
    "from torch.optim.lr_scheduler import StepLR\n",
    "import numpy as np\n",
    "import matplotlib.pyplot as plt\n",
    "import mnist1d"
   ],
   "metadata": {
    "id": "qyE7G1StPIqO",
    "ExecuteTime": {
     "end_time": "2024-04-24T13:12:58.750988Z",
     "start_time": "2024-04-24T13:11:51.916703Z"
    }
   },
   "execution_count": 5,
   "outputs": []
  },
  {
   "cell_type": "markdown",
   "source": [
    "Let's generate a training and test dataset using the MNIST1D code.  The dataset gets saved as a .pkl file so it doesn't have to be regenerated each time."
   ],
   "metadata": {
    "id": "F7LNq72SP6jO"
   }
  },
  {
   "cell_type": "code",
   "source": [
    "!mkdir ./sample_data\n",
    "\n",
    "args = mnist1d.data.get_dataset_args()\n",
    "data = mnist1d.data.get_dataset(args, path='./sample_data/mnist1d_data.pkl', download=False, regenerate=False)\n",
    "\n",
    "# The training and test input and outputs are in\n",
    "# data['x'], data['y'], data['x_test'], and data['y_test']\n",
    "print(\"Examples in training set: {}\".format(len(data['y'])))\n",
    "print(\"Examples in test set: {}\".format(len(data['y_test'])))\n",
    "print(\"Length of each example: {}\".format(data['x'].shape[-1]))"
   ],
   "metadata": {
    "id": "YLxf7dJfPaqw",
    "ExecuteTime": {
     "end_time": "2024-04-24T13:13:14.928671Z",
     "start_time": "2024-04-24T13:13:07.770608Z"
    }
   },
   "execution_count": 6,
   "outputs": [
    {
     "name": "stdout",
     "output_type": "stream",
     "text": [
      "Did or could not load data from ./sample_data/mnist1d_data.pkl. Rebuilding dataset...\n",
      "Examples in training set: 4000\n",
      "Examples in test set: 1000\n",
      "Length of each example: 40\n"
     ]
    }
   ]
  },
  {
   "cell_type": "code",
   "source": [
    "D_i = 40    # Input dimensions\n",
    "D_k = 100   # Hidden dimensions\n",
    "D_o = 10    # Output dimensions\n",
    "# TODO:\n",
    "# Define a model with two hidden layers of size 100\n",
    "# And ReLU activations between them\n",
    "# Replace this line (see Figure 7.8 of book for help):\n",
    "model = torch.nn.Sequential(\n",
    "       nn.Linear(D_i, D_k),\n",
    "       nn.ReLU(),\n",
    "       nn.Linear(D_k, D_k),\n",
    "       nn.ReLU(),\n",
    "       nn.Linear(D_k, D_o))\n",
    "\n",
    "\n",
    "def weights_init(layer_in):\n",
    "  # TODO:\n",
    "  # Initialize the parameters with He initialization\n",
    "  # Replace this line (see figure 7.8 of book for help)\n",
    "  print(\"Initializing layer\")\n",
    "  if isinstance(layer_in, nn.Linear):\n",
    "      torch.nn.init.kaiming_normal_(layer_in.weight)\n",
    "      layer_in.bias.data.fill_(0.0)\n",
    "\n",
    "\n",
    "# Call the function you just defined\n",
    "model.apply(weights_init)\n"
   ],
   "metadata": {
    "id": "FxaB5vc0uevl",
    "ExecuteTime": {
     "end_time": "2024-04-24T13:14:53.883040Z",
     "start_time": "2024-04-24T13:14:53.662534Z"
    }
   },
   "execution_count": 7,
   "outputs": [
    {
     "name": "stdout",
     "output_type": "stream",
     "text": [
      "Initializing layer\n",
      "Initializing layer\n",
      "Initializing layer\n",
      "Initializing layer\n",
      "Initializing layer\n",
      "Initializing layer\n"
     ]
    },
    {
     "data": {
      "text/plain": "Sequential(\n  (0): Linear(in_features=40, out_features=100, bias=True)\n  (1): ReLU()\n  (2): Linear(in_features=100, out_features=100, bias=True)\n  (3): ReLU()\n  (4): Linear(in_features=100, out_features=10, bias=True)\n)"
     },
     "execution_count": 7,
     "metadata": {},
     "output_type": "execute_result"
    }
   ]
  },
  {
   "cell_type": "code",
   "source": [
    "# choose cross entropy loss function (equation 5.24)\n",
    "loss_function = torch.nn.CrossEntropyLoss()\n",
    "# construct SGD optimizer and initialize learning rate and momentum\n",
    "optimizer = torch.optim.SGD(model.parameters(), lr = 0.05, momentum=0.9)\n",
    "# object that decreases learning rate by half every 10 epochs\n",
    "scheduler = StepLR(optimizer, step_size=10, gamma=0.5)\n",
    "x_train = torch.tensor(data['x'].astype('float32'))\n",
    "y_train = torch.tensor(data['y'].transpose().astype('long'))\n",
    "x_test= torch.tensor(data['x_test'].astype('float32'))\n",
    "y_test = torch.tensor(data['y_test'].astype('long'))\n",
    "\n",
    "# load the data into a class that creates the batches\n",
    "data_loader = DataLoader(TensorDataset(x_train,y_train), batch_size=100, shuffle=True, worker_init_fn=np.random.seed(1))\n",
    "\n",
    "# Initialize model weights\n",
    "model.apply(weights_init)\n",
    "\n",
    "# loop over the dataset n_epoch times\n",
    "n_epoch = 50\n",
    "# store the loss and the % correct at each epoch\n",
    "losses_train = np.zeros((n_epoch))\n",
    "errors_train = np.zeros((n_epoch))\n",
    "losses_test = np.zeros((n_epoch))\n",
    "errors_test = np.zeros((n_epoch))\n",
    "\n",
    "for epoch in range(n_epoch):\n",
    "  # loop over batches\n",
    "  for i, batch in enumerate(data_loader):\n",
    "    # retrieve inputs and labels for this batch\n",
    "    x_batch, y_batch = batch\n",
    "    # zero the parameter gradients\n",
    "    optimizer.zero_grad()\n",
    "    # forward pass -- calculate model output\n",
    "    pred = model(x_batch)\n",
    "    # compute the loss\n",
    "    loss = loss_function(pred, y_batch)\n",
    "    # backward pass\n",
    "    loss.backward()\n",
    "    # SGD update\n",
    "    optimizer.step()\n",
    "\n",
    "  # Run whole dataset to get statistics -- normally wouldn't do this\n",
    "  pred_train = model(x_train)\n",
    "  pred_test = model(x_test)\n",
    "  _, predicted_train_class = torch.max(pred_train.data, 1)\n",
    "  _, predicted_test_class = torch.max(pred_test.data, 1)\n",
    "  errors_train[epoch] = 100 - 100 * (predicted_train_class == y_train).float().sum() / len(y_train)\n",
    "  errors_test[epoch]= 100 - 100 * (predicted_test_class == y_test).float().sum() / len(y_test)\n",
    "  losses_train[epoch] = loss_function(pred_train, y_train).item()\n",
    "  losses_test[epoch]= loss_function(pred_test, y_test).item()\n",
    "  print(f'Epoch {epoch:5d}, train loss {losses_train[epoch]:.6f}, train error {errors_train[epoch]:3.2f},  test loss {losses_test[epoch]:.6f}, test error {errors_test[epoch]:3.2f}')\n",
    "\n",
    "  # tell scheduler to consider updating learning rate\n",
    "  scheduler.step()"
   ],
   "metadata": {
    "id": "_rX6N3VyyQTY",
    "ExecuteTime": {
     "end_time": "2024-04-24T13:15:37.918300Z",
     "start_time": "2024-04-24T13:15:19.870283Z"
    }
   },
   "execution_count": 8,
   "outputs": [
    {
     "name": "stdout",
     "output_type": "stream",
     "text": [
      "Initializing layer\n",
      "Initializing layer\n",
      "Initializing layer\n",
      "Initializing layer\n",
      "Initializing layer\n",
      "Initializing layer\n",
      "Epoch     0, train loss 1.568574, train error 60.22,  test loss 1.633147, test error 65.50\n",
      "Epoch     1, train loss 1.324552, train error 48.65,  test loss 1.474116, test error 59.70\n",
      "Epoch     2, train loss 1.149583, train error 40.88,  test loss 1.357977, test error 52.80\n",
      "Epoch     3, train loss 1.026772, train error 36.90,  test loss 1.291789, test error 49.70\n",
      "Epoch     4, train loss 0.899256, train error 31.15,  test loss 1.214813, test error 46.80\n",
      "Epoch     5, train loss 0.818182, train error 28.57,  test loss 1.192312, test error 46.30\n",
      "Epoch     6, train loss 0.713616, train error 24.53,  test loss 1.140412, test error 42.20\n",
      "Epoch     7, train loss 0.637827, train error 21.60,  test loss 1.177744, test error 45.00\n",
      "Epoch     8, train loss 0.578001, train error 19.95,  test loss 1.136017, test error 43.40\n",
      "Epoch     9, train loss 0.563572, train error 18.72,  test loss 1.216190, test error 44.40\n",
      "Epoch    10, train loss 0.415326, train error 12.12,  test loss 1.077784, test error 39.30\n",
      "Epoch    11, train loss 0.377538, train error 10.03,  test loss 1.094737, test error 40.40\n",
      "Epoch    12, train loss 0.333178, train error 8.12,  test loss 1.113481, test error 40.50\n",
      "Epoch    13, train loss 0.316335, train error 7.80,  test loss 1.122201, test error 40.40\n",
      "Epoch    14, train loss 0.284960, train error 7.00,  test loss 1.156401, test error 39.50\n",
      "Epoch    15, train loss 0.267928, train error 7.25,  test loss 1.162340, test error 40.80\n",
      "Epoch    16, train loss 0.226804, train error 4.70,  test loss 1.144201, test error 39.00\n",
      "Epoch    17, train loss 0.210804, train error 4.07,  test loss 1.179743, test error 38.80\n",
      "Epoch    18, train loss 0.192862, train error 3.45,  test loss 1.212090, test error 40.20\n",
      "Epoch    19, train loss 0.180241, train error 3.22,  test loss 1.242626, test error 40.30\n",
      "Epoch    20, train loss 0.156214, train error 2.05,  test loss 1.244760, test error 38.40\n",
      "Epoch    21, train loss 0.144939, train error 1.70,  test loss 1.260172, test error 39.60\n",
      "Epoch    22, train loss 0.131381, train error 0.97,  test loss 1.244801, test error 37.60\n",
      "Epoch    23, train loss 0.127190, train error 1.00,  test loss 1.257707, test error 37.90\n",
      "Epoch    24, train loss 0.117603, train error 0.70,  test loss 1.278346, test error 38.60\n",
      "Epoch    25, train loss 0.115331, train error 0.80,  test loss 1.285315, test error 37.40\n",
      "Epoch    26, train loss 0.106944, train error 0.75,  test loss 1.289260, test error 38.60\n",
      "Epoch    27, train loss 0.100731, train error 0.30,  test loss 1.308661, test error 38.40\n",
      "Epoch    28, train loss 0.096603, train error 0.32,  test loss 1.316941, test error 38.10\n",
      "Epoch    29, train loss 0.091287, train error 0.28,  test loss 1.319650, test error 38.10\n",
      "Epoch    30, train loss 0.087149, train error 0.18,  test loss 1.328983, test error 38.10\n",
      "Epoch    31, train loss 0.084062, train error 0.12,  test loss 1.335906, test error 38.70\n",
      "Epoch    32, train loss 0.082556, train error 0.12,  test loss 1.343347, test error 38.60\n",
      "Epoch    33, train loss 0.080053, train error 0.12,  test loss 1.350038, test error 38.00\n",
      "Epoch    34, train loss 0.078565, train error 0.12,  test loss 1.356265, test error 38.50\n",
      "Epoch    35, train loss 0.076831, train error 0.12,  test loss 1.361795, test error 38.10\n",
      "Epoch    36, train loss 0.075109, train error 0.12,  test loss 1.361191, test error 38.40\n",
      "Epoch    37, train loss 0.073344, train error 0.10,  test loss 1.371430, test error 38.70\n",
      "Epoch    38, train loss 0.071272, train error 0.07,  test loss 1.377299, test error 38.20\n",
      "Epoch    39, train loss 0.069702, train error 0.10,  test loss 1.379202, test error 38.20\n",
      "Epoch    40, train loss 0.068703, train error 0.10,  test loss 1.383632, test error 38.30\n",
      "Epoch    41, train loss 0.067771, train error 0.07,  test loss 1.389055, test error 38.50\n",
      "Epoch    42, train loss 0.067137, train error 0.07,  test loss 1.392246, test error 38.50\n",
      "Epoch    43, train loss 0.066296, train error 0.07,  test loss 1.393439, test error 38.30\n",
      "Epoch    44, train loss 0.065544, train error 0.07,  test loss 1.395599, test error 38.30\n",
      "Epoch    45, train loss 0.064954, train error 0.07,  test loss 1.397851, test error 38.10\n",
      "Epoch    46, train loss 0.064766, train error 0.07,  test loss 1.407613, test error 38.20\n",
      "Epoch    47, train loss 0.063526, train error 0.07,  test loss 1.402051, test error 38.50\n",
      "Epoch    48, train loss 0.062903, train error 0.07,  test loss 1.405163, test error 38.20\n",
      "Epoch    49, train loss 0.062257, train error 0.07,  test loss 1.412291, test error 38.50\n"
     ]
    }
   ]
  },
  {
   "cell_type": "code",
   "source": [
    "# Plot the results\n",
    "fig, ax = plt.subplots()\n",
    "ax.plot(errors_train,'r-',label='train')\n",
    "ax.plot(errors_test,'b-',label='test')\n",
    "ax.set_ylim(0,100); ax.set_xlim(0,n_epoch)\n",
    "ax.set_xlabel('Epoch'); ax.set_ylabel('Error')\n",
    "ax.set_title('TrainError %3.2f, Test Error %3.2f'%(errors_train[-1],errors_test[-1]))\n",
    "ax.legend()\n",
    "plt.show()\n",
    "\n",
    "# Plot the results\n",
    "fig, ax = plt.subplots()\n",
    "ax.plot(losses_train,'r-',label='train')\n",
    "ax.plot(losses_test,'b-',label='test')\n",
    "ax.set_xlim(0,n_epoch)\n",
    "ax.set_xlabel('Epoch'); ax.set_ylabel('Loss')\n",
    "ax.set_title('Train loss %3.2f, Test loss %3.2f'%(losses_train[-1],losses_test[-1]))\n",
    "ax.legend()\n",
    "plt.show()"
   ],
   "metadata": {
    "id": "yI-l6kA_EH9G",
    "ExecuteTime": {
     "end_time": "2024-04-24T13:16:07.244780Z",
     "start_time": "2024-04-24T13:16:05.610059Z"
    }
   },
   "execution_count": 9,
   "outputs": [
    {
     "data": {
      "text/plain": "<Figure size 640x480 with 1 Axes>",
      "image/png": "[encoded data removed]"
     },
     "metadata": {},
     "output_type": "display_data"
    },
    {
     "data": {
      "text/plain": "<Figure size 640x480 with 1 Axes>",
      "image/png": "[encoded data removed]"
     },
     "metadata": {},
     "output_type": "display_data"
    }
   ]
  },
  {
   "cell_type": "markdown",
   "source": [
    "**TO DO**\n",
    "\n",
    "Play with the model -- try changing the number of layers, hidden units, learning rate, batch size, momentum or anything else you like.  See if you can improve the test results.\n",
    "\n",
    "Is it a good idea to optimize the hyperparameters in this way?  Will the final result be a good estimate of the true test performance?"
   ],
   "metadata": {
    "id": "q-yT6re6GZS4"
   }
  }
 ]
}
